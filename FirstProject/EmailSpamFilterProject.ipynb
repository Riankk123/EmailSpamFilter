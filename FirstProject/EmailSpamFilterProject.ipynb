{
 "cells": [
  {
   "cell_type": "markdown",
   "metadata": {},
   "source": [
    "# Importing The Libraries"
   ]
  },
  {
   "cell_type": "code",
   "execution_count": 2,
   "metadata": {},
   "outputs": [],
   "source": [
    "import numpy as np\n",
    "import matplotlib.pyplot as plt\n",
    "import pandas as pd"
   ]
  },
  {
   "cell_type": "markdown",
   "metadata": {},
   "source": [
    "# Importing the Dataset"
   ]
  },
  {
   "cell_type": "markdown",
   "metadata": {},
   "source": [
    "Here, We have two datasets :\n",
    "    1. email.csv : Dataset of emails and whether they are spam or not\n",
    "    2. spamwords.csv : Dataset of spam trigger words.\n",
    "We have to convert all the letters of spamwords to lower-case as emails.csv is in lower-case."
   ]
  },
  {
   "cell_type": "code",
   "execution_count": 65,
   "metadata": {},
   "outputs": [],
   "source": [
    "dataset = pd.read_csv('emails.csv')\n",
    "X = dataset.iloc[:, :-1].values\n",
    "y = dataset.iloc[:, -1].values"
   ]
  },
  {
   "cell_type": "code",
   "execution_count": 66,
   "metadata": {},
   "outputs": [
    {
     "name": "stdout",
     "output_type": "stream",
     "text": [
      "['act now', 'buy', 'call now', 'click', 'click below', 'click here', 'compare', 'do it today', 'don’t delete', 'free', 'get', 'give it away', 'open', 'opt in', 'order', 'order now', 'print from signature', 'print out and fax', 'see for yourself', 'sign up free today', 'stop', 'unsubscribe', 'visit our website', 'congratulations', 'giving away', 'prize', 'prizes', 'talks about prizes', 'who really wins?', 'win', 'winner', 'won', 'you are a winner!', 'you have been selected', 'you’re a winner!', 'confidentially on all orders', 'order today', 'orders shipped by', 'outstanding values', 'sample', 'wants credit card', 'what are you waiting for?', '“hidden” assets', '$$$', 'additional income', 'apply online', 'avoid bankruptcy', 'be your own boss', 'beneficiary', 'big bucks', 'billion', 'billion dollars', 'calling creditors', 'cash', 'cash bonus', 'cashcashcash', 'casino', 'cents on the dollar', 'check', 'check or money order', 'collect child support', 'consolidate debt and credit', 'consolidate your debt', 'cost', 'costs', 'credit', 'credit bureaus', 'credit card offers', 'discount', 'double your', 'double your income', 'earn', 'earn $', 'earn extra cash', 'earn per week', 'easy terms', 'eliminate bad credit', 'eliminate debt', 'expect to earn', 'extra income', 'fast cash', 'financial freedom', 'financially independent', 'for free', 'for just $xxx', 'free grant money', 'free investment', 'free money', 'get out of debt', 'get paid', 'hidden assets', 'hidden charges', 'home based', 'home employment', 'homebased business', 'income', 'income from home', 'investment', 'investment decision', 'leave', 'loans', 'lower interest rate', 'lower interest rates', 'lower monthly payment', 'lower your mortgage rate', 'lowest insurance rates', 'make $', 'make money', 'million', 'million dollars', 'money', 'money making', 'mortgage', 'mortgage rates', 'nigerian', 'no credit check', 'no fees', 'no investment', 'off shore', 'one time', 'online biz opportunity', 'only $', 'pennies a day', 'potential earnings', 'pre-approved', 'price', 'prices', 'print form signature', 'profits', 'pure profits', 'refinance', 'refinance home', 'refinanced home', 'risk free', 'save up to', 'serious cash', 'social security number', 'stock alert', 'stock disclaimer statement', 'stock pick', 'subject to cash', 'subject to credit', 'they keep your money – no refund', 'thousands', 'unsecured credit', 'unsecured credit/debt', 'unsecured debt', 'us dollars', 'why pay more?', 'winner', 'winning', 'work at home', 'work from home', 'your income', 'all natural', 'cell phone cancer scam', 'cures baldness', 'diagnostics', 'don’t hesitate', 'fast viagra delivery', 'human growth hormone', 'insurance', 'life', 'life insurance', 'lose', 'lose weight', 'lose weight spam', 'medicine', 'no claim forms', 'no medical exams', 'online pharmacy', 'removes wrinkles', 'reverses', 'reverses aging', 'stop snoring', 'valium', 'viagra', 'viagra and other drugs', 'vicodin', 'weight loss', 'claims', 'claims to be in accordance with some spam law', 'claims to be legal', 'in accordance with laws', '100% free', 'accept credit cards', 'access', 'accordingly', 'ad', 'amazing', 'auto email removal', 'being a member', 'best price', 'billing address', 'bulk email', 'cancel at any time', 'cannot be combined with any other offer', 'cards accepted', 'dear [email/friend/somebody]', 'dig up dirt on friends', 'direct email', 'direct marketing', 'email harvest', 'email marketing', 'free gift', 'free leads', 'free preview', 'free sample', 'free trial', 'full refund', 'get started now', 'gift certificate', 'give it away', 'great offer', 'if only it were that easy', 'important information regarding', 'increase traffic', 'info you requested', 'information you requested', 'internet market', 'internet marketing', 'maintained', 'marketing', 'marketing solutions', 'mass email', 'member', 'member stuff', 'message contains', 'message contains disclaimer', 'mlm', 'multi level marketing', 'multi-level marketing', 'name brand', 'no catch', 'no disappointment', 'no hidden', 'not intended', 'obligation', 'offer', 'online marketing', 'order status', 'please read', 'safeguard notice', 'satisfaction', 'satisfaction guaranteed', 'search engine listings', 'search engines', 'sent in compliance', 'solution', 'special promotion', 'supplies are limited', 'talks about hidden charges', 'tells you it’s an ad', 'terms and conditions', 'the following form', 'this isn’t junk', 'this isn’t spam', 'trial', 'we hate spam', 'web traffic', 'weekend getaway', 'bill 1618', 'copy dvds', 'laser printer', 'online degree', 'rolex', 's 1618', 'section 301', 'stainless steel', '#1', '4u', 'amazing stuff', 'brand new pager', 'drastically reduced', 'for instant access', 'for you', 'free', 'free info', 'free installation', 'free instant', 'free membership', 'free offer', 'free priority mail', 'free quote', 'free website', 'limited time only', 'lowest price', 'month trial offer', 'more internet traffic', 'new customers only', 'no age restrictions', 'no experience', 'no purchase necessary', 'offer expires', 'only', 'reserves the right', 'time limited', 'vacation offers', '100% satisfied', '50% off', 'act now!', 'act now!', 'affordable', 'all new', 'as seen on', 'bargain', 'be amazed', 'bonus', 'buy direct', 'buying judgments', 'call', 'call free', 'can’t live without', 'cheap', 'claims not to be selling anything', 'clearance', 'click to remove', 'collect', 'compare rates', 'compete for your business', 'deal', 'don’t hesitate!', 'explode your business', 'f r e e', 'fantastic deal', 'for just $(insert whatever amount)', 'for only', 'free consultation', 'free consultation', 'free dvd', 'free hosting', 'get it now', 'guarantee', 'guaranteed', 'have you been turned down?', 'increase sales', 'increase your sales', 'incredible deal', 'it’s effective', 'join millions', 'join millions of americans', 'lifetime', 'limited time', 'limited time offer', 'long distance phone offer', 'mail in order form', 'money back', 'new domain extensions', 'no cost', 'no gimmick', 'no inventory', 'no middleman', 'no obligation', 'no questions asked', 'no selling', 'no strings attached', 'no-obligation', 'now', 'now only', 'one hundred percent free', 'one hundred percent guaranteed', 'opportunity', 'order shipped by', 'problem', 'promise you', 'quote', 'quotes', 'sale', 'sales', 'save $', 'save big money', 'see for yourself', 'serious only', 'sign up free today', 'strong buy', 'stuff on sale', 'success', 'the best rates', 'they’re just giving it away', 'this isn’t a scam', 'this won’t last', 'unlimited', 'urgent', 'warranty', 'we honor all', 'while supplies last', 'while you sleep', 'will not believe your eyes', 'acceptance', 'addresses on cd', 'beverage', 'celebrity', 'chance', 'congratulations', 'copy accurately', 'dormant', 'form', 'freedom', 'friend', 'hello', 'here', 'hidden', 'home', 'legal', 'luxury car', 'medium', 'meet singles', 'miracle', 'never', 'not spam', 'passwords', 'performance', 'phone', 'print out and fax', 'priority mail', 'produced and sent out', 'real thing', 'removal instructions', 'remove', 'round the world', 'score with babes', 'shopper', 'teen', 'undisclosed recipient', 'unsolicited', 'vacation', 'wife']\n"
     ]
    }
   ],
   "source": [
    "dataset = pd.read_csv('spamwords.csv')\n",
    "UpperCaseSpam = dataset.iloc[:,-1].values\n",
    "LowerCaseSpam = list()\n",
    "for words in UpperCaseSpam:\n",
    "    LowerCaseSpam.append(words.lower())\n",
    "print(LowerCaseSpam)\n"
   ]
  },
  {
   "cell_type": "markdown",
   "metadata": {},
   "source": [
    "## Making the final list of Input"
   ]
  },
  {
   "cell_type": "code",
   "execution_count": 5,
   "metadata": {},
   "outputs": [],
   "source": [
    "FinalInput = list()\n",
    "for sentences in X:\n",
    "    s = str(sentences)\n",
    "    count = 0\n",
    "    for spam_words in LowerCaseSpam:\n",
    "        if spam_words in s:\n",
    "            count = count+1\n",
    "    FinalInput.append(count/len(s))\n"
   ]
  },
  {
   "cell_type": "markdown",
   "metadata": {},
   "source": [
    "## Splitting the Dataset into Training and Test Dataset"
   ]
  },
  {
   "cell_type": "code",
   "execution_count": 67,
   "metadata": {},
   "outputs": [],
   "source": [
    "from sklearn.model_selection import train_test_split\n",
    "X_train, X_test, y_train, y_test = train_test_split(FinalInput, y, test_size = 0.25, random_state = 0)"
   ]
  },
  {
   "cell_type": "code",
   "execution_count": 68,
   "metadata": {},
   "outputs": [
    {
     "data": {
      "text/plain": [
       "array([[0.01793722],\n",
       "       [0.00269024],\n",
       "       [0.00708661],\n",
       "       ...,\n",
       "       [0.00468384],\n",
       "       [0.00519481],\n",
       "       [0.00675676]])"
      ]
     },
     "execution_count": 68,
     "metadata": {},
     "output_type": "execute_result"
    }
   ],
   "source": [
    "X_train = np.array(X_train)\n",
    "X_train = X_train.reshape(len(X_train),1)\n",
    "X_train"
   ]
  },
  {
   "cell_type": "code",
   "execution_count": 69,
   "metadata": {},
   "outputs": [
    {
     "data": {
      "text/plain": [
       "array([[0.00353157],\n",
       "       [0.00654308],\n",
       "       [0.01777778],\n",
       "       ...,\n",
       "       [0.00754717],\n",
       "       [0.00305144],\n",
       "       [0.00537634]])"
      ]
     },
     "execution_count": 69,
     "metadata": {},
     "output_type": "execute_result"
    }
   ],
   "source": [
    "X_test = np.array(X_test)\n",
    "X_test = X_test.reshape(len(X_test),1)\n",
    "X_test"
   ]
  },
  {
   "cell_type": "markdown",
   "metadata": {},
   "source": [
    "## Applying Feature Scaling to The Training and the Test Set"
   ]
  },
  {
   "cell_type": "code",
   "execution_count": 70,
   "metadata": {},
   "outputs": [],
   "source": [
    "from sklearn.preprocessing import StandardScaler\n",
    "sc = StandardScaler()\n",
    "X_train = sc.fit_transform(X_train)\n",
    "X_test = sc.transform(X_test)"
   ]
  },
  {
   "cell_type": "markdown",
   "metadata": {},
   "source": [
    "## Using the In-build Library ScikitLearn for Applying Logisitic Regression to our Model "
   ]
  },
  {
   "cell_type": "code",
   "execution_count": 71,
   "metadata": {},
   "outputs": [
    {
     "data": {
      "text/plain": [
       "LogisticRegression(C=1.0, class_weight=None, dual=False, fit_intercept=True,\n",
       "                   intercept_scaling=1, l1_ratio=None, max_iter=100,\n",
       "                   multi_class='auto', n_jobs=None, penalty='l2',\n",
       "                   random_state=0, solver='lbfgs', tol=0.0001, verbose=0,\n",
       "                   warm_start=False)"
      ]
     },
     "execution_count": 71,
     "metadata": {},
     "output_type": "execute_result"
    }
   ],
   "source": [
    "from sklearn.linear_model import LogisticRegression\n",
    "classifier = LogisticRegression(random_state = 0)\n",
    "classifier.fit(X_train, y_train)"
   ]
  },
  {
   "cell_type": "markdown",
   "metadata": {},
   "source": [
    "## Comparing the Predicted Values and Final Values"
   ]
  },
  {
   "cell_type": "code",
   "execution_count": 73,
   "metadata": {},
   "outputs": [
    {
     "name": "stdout",
     "output_type": "stream",
     "text": [
      "[[0 0]\n",
      " [0 0]\n",
      " [1 1]\n",
      " ...\n",
      " [0 0]\n",
      " [0 0]\n",
      " [0 0]]\n"
     ]
    }
   ],
   "source": [
    "y_pred = classifier.predict(X_test)\n",
    "print(np.concatenate((y_pred.reshape(len(y_pred),1), y_test.reshape(len(y_test),1)),1))"
   ]
  },
  {
   "cell_type": "markdown",
   "metadata": {},
   "source": [
    "## Checking the Accuracy of the Model  "
   ]
  },
  {
   "cell_type": "code",
   "execution_count": 74,
   "metadata": {},
   "outputs": [
    {
     "name": "stdout",
     "output_type": "stream",
     "text": [
      "[[1033   56]\n",
      " [ 207  136]]\n"
     ]
    },
    {
     "data": {
      "text/plain": [
       "0.8163407821229051"
      ]
     },
     "execution_count": 74,
     "metadata": {},
     "output_type": "execute_result"
    }
   ],
   "source": [
    "from sklearn.metrics import confusion_matrix, accuracy_score\n",
    "cm = confusion_matrix(y_test, y_pred)\n",
    "print(cm)\n",
    "accuracy_score(y_test, y_pred)"
   ]
  },
  {
   "cell_type": "markdown",
   "metadata": {},
   "source": [
    "\n"
   ]
  },
  {
   "cell_type": "markdown",
   "metadata": {},
   "source": [
    "\n"
   ]
  },
  {
   "cell_type": "code",
   "execution_count": null,
   "metadata": {},
   "outputs": [],
   "source": [
    "\n"
   ]
  },
  {
   "cell_type": "code",
   "execution_count": null,
   "metadata": {},
   "outputs": [],
   "source": []
  },
  {
   "cell_type": "code",
   "execution_count": null,
   "metadata": {},
   "outputs": [],
   "source": []
  },
  {
   "cell_type": "code",
   "execution_count": null,
   "metadata": {},
   "outputs": [],
   "source": []
  },
  {
   "cell_type": "code",
   "execution_count": null,
   "metadata": {},
   "outputs": [],
   "source": []
  }
 ],
 "metadata": {
  "kernelspec": {
   "display_name": "Python 3",
   "language": "python",
   "name": "python3"
  },
  "language_info": {
   "codemirror_mode": {
    "name": "ipython",
    "version": 3
   },
   "file_extension": ".py",
   "mimetype": "text/x-python",
   "name": "python",
   "nbconvert_exporter": "python",
   "pygments_lexer": "ipython3",
   "version": "3.7.6"
  }
 },
 "nbformat": 4,
 "nbformat_minor": 4
}
